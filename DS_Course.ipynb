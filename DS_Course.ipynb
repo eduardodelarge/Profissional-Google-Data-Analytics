{
  "nbformat": 4,
  "nbformat_minor": 0,
  "metadata": {
    "colab": {
      "provenance": []
    },
    "kernelspec": {
      "name": "python3",
      "display_name": "Python 3"
    },
    "language_info": {
      "name": "python"
    }
  },
  "cells": [
    {
      "cell_type": "markdown",
      "source": [
        "This notebook is dedicated to my Data science Course offered by Google."
      ],
      "metadata": {
        "id": "4G68KCDWujiv"
      }
    },
    {
      "cell_type": "markdown",
      "source": [
        "What is data? Data is a collection of facts or informations."
      ],
      "metadata": {
        "id": "cJrBk7YeuXLk"
      }
    },
    {
      "cell_type": "markdown",
      "source": [
        "The data analisys is composed bt 6 steps, being:\n",
        "\n",
        "1. Ask questions and define the problem.\n",
        "\n",
        "2. Prepare data by collecting and storing the information.\n",
        "\n",
        "3. Process data by cleaning and checking the information.\n",
        "\n",
        "4. Analyze data to find patterns, relationships, and trends.\n",
        "\n",
        "6. Share data with your audience.\n",
        "\n",
        "6. Act on the data and use the analysis results.\n"
      ],
      "metadata": {
        "id": "NYz690JevCzO"
      }
    },
    {
      "cell_type": "markdown",
      "source": [
        "\n",
        "* Data Science: Create new ways of modeling and understanding the unknown by using raw data.\n",
        "\n",
        "* Data Analysis: Collection, transformation and organization of data in order to draw conclusions, make predictions and drive informed decision-making."
      ],
      "metadata": {
        "id": "ugA-OVfko6Sw"
      }
    },
    {
      "cell_type": "markdown",
      "source": [
        "A project-based data analytics life cycle has five simple steps:\n",
        "\n",
        "1. Identifying the problem\n",
        "2. Designing data requeriments\n",
        "3. Pre-processing data\n",
        "4. Performing data analysis\n",
        "5. Visualizing data"
      ],
      "metadata": {
        "id": "ms5jqB_uhb9D"
      }
    },
    {
      "cell_type": "markdown",
      "source": [
        "Big data analytics life cycle:\n",
        "\n",
        "1. Business case evaluation\n",
        "2. Data identification\n",
        "3. Data acquisition and filtering\n",
        "4. Data extraction\n",
        "5. Data validation and cleaning\n",
        "6. Data aggregation and representation\n",
        "7. DAta analysis\n",
        "8. Data visualization\n",
        "9. Utilization of analysis results"
      ],
      "metadata": {
        "id": "gLlul59Zo_Eg"
      }
    },
    {
      "cell_type": "markdown",
      "source": [
        "Data: A collection of facts\n",
        "\n",
        "Data analysis: The collection, transformation, and organization of data in order to draw conclusions, make predictions, and drive informed decision-making\n",
        "\n",
        "Data analyst: Someone who collects, transforms, and organizes data in order to drive informed decision-making\n",
        "\n",
        "Data analytics: The science of data\n",
        "\n",
        "Data-driven decision-making: Using facts to guide business strategy\n",
        "\n",
        "Data ecosystem: The various elements that interact with one another in order to produce, manage, store, organize, analyze, and share data\n",
        "\n",
        "Data science: A field of study that uses raw data to create new ways of modeling and understanding the unknown\n",
        "\n",
        "Dataset: A collection of data that can be manipulated or analyzed as one unit"
      ],
      "metadata": {
        "id": "-u8bqAFYxtuT"
      }
    },
    {
      "cell_type": "markdown",
      "source": [
        "Key data analyst skills:\n",
        "\n",
        "1. Curiosity\n",
        "2. Understanding context\n",
        "3. Having a technical mindset\n",
        "4. Data design\n",
        "5. Data strategy"
      ],
      "metadata": {
        "id": "kiFuMbecCHuG"
      }
    },
    {
      "cell_type": "markdown",
      "source": [
        "The qualities and characteristics associated with solving problems using facts\n",
        "=\n",
        "Analytical skills\n",
        "\n",
        "The analytical skill that involves breaking processes down into smaller steps and working with them in an orderly, logical way\n",
        "=\n",
        "A technical mindset\n",
        "\n",
        "\n",
        "The analytical skill that involves how you organize information\n",
        "=\n",
        "Data design\n",
        "\n",
        "\n",
        "The analytical skill that has to do with how you group things into categories\n",
        "=\n",
        "Understanding context\n",
        "\n",
        "The analytical skill that involves managing the processes and tools used in data analysis\n",
        "=\n",
        "Data strategy"
      ],
      "metadata": {
        "id": "g4Z6ucQ6HF4C"
      }
    },
    {
      "cell_type": "markdown",
      "source": [
        "Key aspects of analytical thinking:\n",
        "\n",
        "1. Visualization\n",
        "2. Strategy\n",
        "3. Problem-orientation\n",
        "4. Correlation\n",
        "5. Big-picture and detail-oriented thinking"
      ],
      "metadata": {
        "id": "1usL-ratkpMe"
      }
    },
    {
      "cell_type": "markdown",
      "source": [
        "Phases of data analysis:\n",
        "\n",
        "Phase 1\n",
        "Ask: Define the problem and confirm stakeholder expectations\n",
        "\n",
        "Phase 2\n",
        "Prepare: Collect and store data for analysis\n",
        "\n",
        "Phase 3\n",
        "Process: Clean and transform data to ensure integrity\n",
        "\n",
        "Phase 4\n",
        "Analyze: Use data analysis tools to draw conclusions\n",
        "\n",
        "Phase 5\n",
        "Share: Interpret and communicate results to others to make data-driven decisions\n",
        "\n",
        "Phase 6\n",
        "Act: Put your insights to work in order to solve the original problem"
      ],
      "metadata": {
        "id": "Evzo5iJWIl9X"
      }
    },
    {
      "cell_type": "markdown",
      "source": [
        "Stages of the data life cycle:\n",
        "\n",
        "Plan: Decide what kind of data is needed, how it will be managed, and who will be responsible for it.\n",
        "\n",
        "Capture: Collect or bring in data from a variety of different sources.\n",
        "\n",
        "Manage: Care for and maintain the data. This includes determining how and where it is stored and the tools used to do so.\n",
        "\n",
        "Analyze: Use the data to solve problems, make decisions, and support business goals.\n",
        "\n",
        "Archive: Keep relevant data stored for long-term and future reference.\n",
        "\n",
        "Destroy: Remove data from storage and delete any shared copies of the data.\n",
        "\n"
      ],
      "metadata": {
        "id": "Y_jcJlYhJhe-"
      }
    }
  ]
}