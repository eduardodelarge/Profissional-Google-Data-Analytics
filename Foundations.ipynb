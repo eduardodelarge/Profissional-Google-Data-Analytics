{
  "cells": [
    {
      "cell_type": "markdown",
      "metadata": {
        "id": "4G68KCDWujiv"
      },
      "source": [
        "This notebook is dedicated to my Data science Course offered by Google."
      ]
    },
    {
      "cell_type": "markdown",
      "metadata": {
        "id": "cJrBk7YeuXLk"
      },
      "source": [
        "What is data? Data is a collection of facts or informations."
      ]
    },
    {
      "cell_type": "markdown",
      "metadata": {
        "id": "NYz690JevCzO"
      },
      "source": [
        "The data analisys is composed bt 6 steps, being:\n",
        "\n",
        "1. Ask questions and define the problem.\n",
        "\n",
        "2. Prepare data by collecting and storing the information.\n",
        "\n",
        "3. Process data by cleaning and checking the information.\n",
        "\n",
        "4. Analyze data to find patterns, relationships, and trends.\n",
        "\n",
        "6. Share data with your audience.\n",
        "\n",
        "6. Act on the data and use the analysis results.\n"
      ]
    },
    {
      "cell_type": "markdown",
      "metadata": {
        "id": "ugA-OVfko6Sw"
      },
      "source": [
        "\n",
        "* Data Science: Create new ways of modeling and understanding the unknown by using raw data.\n",
        "\n",
        "* Data Analysis: Collection, transformation and organization of data in order to draw conclusions, make predictions and drive informed decision-making."
      ]
    },
    {
      "cell_type": "markdown",
      "metadata": {
        "id": "ms5jqB_uhb9D"
      },
      "source": [
        "A project-based data analytics life cycle has five simple steps:\n",
        "\n",
        "1. Identifying the problem\n",
        "2. Designing data requeriments\n",
        "3. Pre-processing data\n",
        "4. Performing data analysis\n",
        "5. Visualizing data"
      ]
    },
    {
      "cell_type": "markdown",
      "metadata": {
        "id": "gLlul59Zo_Eg"
      },
      "source": [
        "Big data analytics life cycle:\n",
        "\n",
        "1. Business case evaluation\n",
        "2. Data identification\n",
        "3. Data acquisition and filtering\n",
        "4. Data extraction\n",
        "5. Data validation and cleaning\n",
        "6. Data aggregation and representation\n",
        "7. DAta analysis\n",
        "8. Data visualization\n",
        "9. Utilization of analysis results"
      ]
    },
    {
      "cell_type": "markdown",
      "metadata": {
        "id": "-u8bqAFYxtuT"
      },
      "source": [
        "Data: A collection of facts\n",
        "\n",
        "Data analysis: The collection, transformation, and organization of data in order to draw conclusions, make predictions, and drive informed decision-making\n",
        "\n",
        "Data analyst: Someone who collects, transforms, and organizes data in order to drive informed decision-making\n",
        "\n",
        "Data analytics: The science of data\n",
        "\n",
        "Data-driven decision-making: Using facts to guide business strategy\n",
        "\n",
        "Data ecosystem: The various elements that interact with one another in order to produce, manage, store, organize, analyze, and share data\n",
        "\n",
        "Data science: A field of study that uses raw data to create new ways of modeling and understanding the unknown\n",
        "\n",
        "Dataset: A collection of data that can be manipulated or analyzed as one unit"
      ]
    },
    {
      "cell_type": "markdown",
      "metadata": {
        "id": "kiFuMbecCHuG"
      },
      "source": [
        "Key data analyst skills:\n",
        "\n",
        "1. Curiosity\n",
        "2. Understanding context\n",
        "3. Having a technical mindset\n",
        "4. Data design\n",
        "5. Data strategy"
      ]
    },
    {
      "cell_type": "markdown",
      "metadata": {
        "id": "g4Z6ucQ6HF4C"
      },
      "source": [
        "The qualities and characteristics associated with solving problems using facts\n",
        "=\n",
        "Analytical skills\n",
        "\n",
        "The analytical skill that involves breaking processes down into smaller steps and working with them in an orderly, logical way\n",
        "=\n",
        "A technical mindset\n",
        "\n",
        "\n",
        "The analytical skill that involves how you organize information\n",
        "=\n",
        "Data design\n",
        "\n",
        "\n",
        "The analytical skill that has to do with how you group things into categories\n",
        "=\n",
        "Understanding context\n",
        "\n",
        "The analytical skill that involves managing the processes and tools used in data analysis\n",
        "=\n",
        "Data strategy"
      ]
    },
    {
      "cell_type": "markdown",
      "metadata": {
        "id": "1usL-ratkpMe"
      },
      "source": [
        "Key aspects of analytical thinking:\n",
        "\n",
        "1. Visualization\n",
        "2. Strategy\n",
        "3. Problem-orientation\n",
        "4. Correlation\n",
        "5. Big-picture and detail-oriented thinking"
      ]
    },
    {
      "cell_type": "markdown",
      "metadata": {
        "id": "Evzo5iJWIl9X"
      },
      "source": [
        "Phases of data analysis:\n",
        "\n",
        "Phase 1\n",
        "Ask: Define the problem and confirm stakeholder expectations\n",
        "\n",
        "Phase 2\n",
        "Prepare: Collect and store data for analysis\n",
        "\n",
        "Phase 3\n",
        "Process: Clean and transform data to ensure integrity\n",
        "\n",
        "Phase 4\n",
        "Analyze: Use data analysis tools to draw conclusions\n",
        "\n",
        "Phase 5\n",
        "Share: Interpret and communicate results to others to make data-driven decisions\n",
        "\n",
        "Phase 6\n",
        "Act: Put your insights to work in order to solve the original problem"
      ]
    },
    {
      "cell_type": "markdown",
      "metadata": {
        "id": "Y_jcJlYhJhe-"
      },
      "source": [
        "Stages of the data life cycle:\n",
        "\n",
        "Plan: Decide what kind of data is needed, how it will be managed, and who will be responsible for it.\n",
        "\n",
        "Capture: Collect or bring in data from a variety of different sources.\n",
        "\n",
        "Manage: Care for and maintain the data. This includes determining how and where it is stored and the tools used to do so.\n",
        "\n",
        "Analyze: Use the data to solve problems, make decisions, and support business goals.\n",
        "\n",
        "Archive: Keep relevant data stored for long-term and future reference.\n",
        "\n",
        "Destroy: Remove data from storage and delete any shared copies of the data.\n",
        "\n"
      ]
    },
    {
      "cell_type": "markdown",
      "metadata": {},
      "source": [
        "6 process of analysis:\n",
        "\n",
        "Ask:\n",
        "\n",
        ". Ask effective questions\n",
        "\n",
        ". Define the problem\n",
        "\n",
        ". User structure thinking\n",
        "\n",
        ". Communicate with others\n",
        "\n",
        "\n",
        "\n",
        "Prepare:\n",
        "\n",
        ". Understand how data is generated and collected\n",
        "\n",
        ". Identify and use different data formats\n",
        "\n",
        ". Make sure data is unbiased and credible\n",
        "\n",
        ". Organize and protect data\n",
        "\n",
        "\n",
        "\n",
        "Process:\n",
        "\n",
        ". Create and transform data\n",
        "\n",
        ". Maintain data integrity\n",
        "\n",
        ". Test data\n",
        "\n",
        ". Clean data\n",
        "\n",
        ". Verify and report on cleaning results\n",
        "\n",
        "\n",
        "\n",
        "Analyze:\n",
        "\n",
        ". Use tools to format and transform data\n",
        "\n",
        ". Sort and filter data\n",
        "\n",
        ". Identify patterns and draw conclusions\n",
        "\n",
        ". Make predictions and recomendations\n",
        "\n",
        ". Make data-driven decisions\n",
        "\n",
        "\n",
        "\n",
        "Share:\n",
        "\n",
        ". Understand visualization\n",
        "\n",
        ". Create effective visuals\n",
        "\n",
        ". Bring data to life\n",
        "\n",
        ". Use data storytelling\n",
        "\n",
        ". Communicate to help others understand results\n",
        "\n",
        "\n",
        "\n",
        "\n",
        "Act:\n",
        "\n",
        ". Apply your insights\n",
        "\n",
        ". Solve problems\n",
        "\n",
        ". Make decisions\n",
        "\n",
        ". Create something new\n"
      ]
    },
    {
      "cell_type": "markdown",
      "metadata": {},
      "source": []
    }
  ],
  "metadata": {
    "colab": {
      "provenance": []
    },
    "kernelspec": {
      "display_name": "Python 3",
      "name": "python3"
    },
    "language_info": {
      "name": "python"
    }
  },
  "nbformat": 4,
  "nbformat_minor": 0
}
